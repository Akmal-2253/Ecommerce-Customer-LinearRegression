{
  "nbformat": 4,
  "nbformat_minor": 0,
  "metadata": {
    "colab": {
      "provenance": [],
      "authorship_tag": "ABX9TyMqju6G+TJPiRa2Sl6rc3tZ",
      "include_colab_link": true
    },
    "kernelspec": {
      "name": "python3",
      "display_name": "Python 3"
    },
    "language_info": {
      "name": "python"
    }
  },
  "cells": [
    {
      "cell_type": "markdown",
      "metadata": {
        "id": "view-in-github",
        "colab_type": "text"
      },
      "source": [
        "<a href=\"https://colab.research.google.com/github/Akmal-2253/Ecommerce-Customer-LinearRegression/blob/master/Ridge%20lasso%20project.ipynb\" target=\"_parent\"><img src=\"https://colab.research.google.com/assets/colab-badge.svg\" alt=\"Open In Colab\"/></a>"
      ]
    },
    {
      "cell_type": "code",
      "execution_count": 1,
      "metadata": {
        "id": "AwNZXan9BxbV"
      },
      "outputs": [],
      "source": [
        "import pandas as pd\n",
        "import numpy as np\n",
        "import matplotlib.pyplot as plt\n",
        "import seaborn as sns\n",
        "\n",
        "from sklearn.datasets import  fetch_california_housing"
      ]
    },
    {
      "cell_type": "code",
      "source": [
        "dataset=fetch_california_housing()\n",
        "df=pd.DataFrame(dataset.data,columns=dataset.feature_names)\n",
        "print(df)"
      ],
      "metadata": {
        "colab": {
          "base_uri": "https://localhost:8080/"
        },
        "id": "UdYszzp2CGi5",
        "outputId": "b7e4a7ea-9c51-4735-e175-3560dcc6bac2"
      },
      "execution_count": 3,
      "outputs": [
        {
          "output_type": "stream",
          "name": "stdout",
          "text": [
            "       MedInc  HouseAge  AveRooms  AveBedrms  Population  AveOccup  Latitude  \\\n",
            "0      8.3252      41.0  6.984127   1.023810       322.0  2.555556     37.88   \n",
            "1      8.3014      21.0  6.238137   0.971880      2401.0  2.109842     37.86   \n",
            "2      7.2574      52.0  8.288136   1.073446       496.0  2.802260     37.85   \n",
            "3      5.6431      52.0  5.817352   1.073059       558.0  2.547945     37.85   \n",
            "4      3.8462      52.0  6.281853   1.081081       565.0  2.181467     37.85   \n",
            "...       ...       ...       ...        ...         ...       ...       ...   \n",
            "20635  1.5603      25.0  5.045455   1.133333       845.0  2.560606     39.48   \n",
            "20636  2.5568      18.0  6.114035   1.315789       356.0  3.122807     39.49   \n",
            "20637  1.7000      17.0  5.205543   1.120092      1007.0  2.325635     39.43   \n",
            "20638  1.8672      18.0  5.329513   1.171920       741.0  2.123209     39.43   \n",
            "20639  2.3886      16.0  5.254717   1.162264      1387.0  2.616981     39.37   \n",
            "\n",
            "       Longitude  \n",
            "0        -122.23  \n",
            "1        -122.22  \n",
            "2        -122.24  \n",
            "3        -122.25  \n",
            "4        -122.25  \n",
            "...          ...  \n",
            "20635    -121.09  \n",
            "20636    -121.21  \n",
            "20637    -121.22  \n",
            "20638    -121.32  \n",
            "20639    -121.24  \n",
            "\n",
            "[20640 rows x 8 columns]\n"
          ]
        }
      ]
    },
    {
      "cell_type": "code",
      "source": [
        "x=dataset.data\n",
        "y=dataset.target"
      ],
      "metadata": {
        "id": "BzKW6H8iCQU6"
      },
      "execution_count": 4,
      "outputs": []
    },
    {
      "cell_type": "code",
      "source": [
        "# train test split\n",
        "from sklearn.model_selection import train_test_split\n",
        "X_train, X_test, y_train, y_test = train_test_split(\n",
        "   x , y, test_size=0.30, random_state=42\n",
        ")\n",
        "x.shape"
      ],
      "metadata": {
        "colab": {
          "base_uri": "https://localhost:8080/"
        },
        "id": "z_tlJjVvH4ss",
        "outputId": "8e64154e-d6d0-4cb0-b3b8-4cc06e2b4cec"
      },
      "execution_count": 13,
      "outputs": [
        {
          "output_type": "execute_result",
          "data": {
            "text/plain": [
              "(20640, 8)"
            ]
          },
          "metadata": {},
          "execution_count": 13
        }
      ]
    },
    {
      "cell_type": "code",
      "source": [
        "# standardization of dataset\n",
        "from sklearn.preprocessing import StandardScaler\n",
        "scaler=StandardScaler()\n",
        "X_train=(scaler.fit_transform(X_train))\n",
        "X_test=scaler.transform(X_test)\n",
        "print(X_train)\n",
        "\n",
        "\n"
      ],
      "metadata": {
        "colab": {
          "base_uri": "https://localhost:8080/"
        },
        "id": "Dbopd0xKI3Bn",
        "outputId": "324a2563-7283-42ca-8613-57dc79c432a6"
      },
      "execution_count": 15,
      "outputs": [
        {
          "output_type": "stream",
          "name": "stdout",
          "text": [
            "[[ 0.13350629  0.50935748  0.18106017 ... -0.01082519 -0.80568191\n",
            "   0.78093406]\n",
            " [-0.53221805 -0.67987313 -0.42262953 ... -0.08931585 -1.33947268\n",
            "   1.24526986]\n",
            " [ 0.1709897  -0.36274497  0.07312833 ... -0.04480037 -0.49664515\n",
            "  -0.27755183]\n",
            " ...\n",
            " [-0.49478713  0.58863952 -0.59156984 ...  0.01720102 -0.75885816\n",
            "   0.60119118]\n",
            " [ 0.96717102 -1.07628333  0.39014889 ...  0.00482125  0.90338501\n",
            "  -1.18625198]\n",
            " [-0.68320166  1.85715216 -0.82965604 ... -0.0816717   0.99235014\n",
            "  -1.41592345]]\n"
          ]
        }
      ]
    },
    {
      "cell_type": "code",
      "source": [
        "from sklearn.linear_model import Ridge\n",
        "# Cross validation\n",
        "from sklearn.model_selection import GridSearchCV\n",
        "ridge_regressor= Ridge()\n",
        "params = {'alpha':[0.1,1,10,50,100]}\n",
        "ridge_regressor=GridSearchCV(ridge_regressor, params, scoring='neg_mean_squared_error', cv=5)\n",
        "ridge_regressor.fit(X_train,y_train)\n",
        "ridge_predict=ridge_regressor.predict(X_test)\n",
        "sns.kdeplot(y_test-ridge_predict)\n",
        "plt.show()\n",
        "from sklearn.metrics import r2_score\n",
        "score = r2_score(y_test, ridge_predict)\n",
        "print(score)\n"
      ],
      "metadata": {
        "colab": {
          "base_uri": "https://localhost:8080/",
          "height": 447
        },
        "id": "hoT0-9geJAQj",
        "outputId": "edc06209-41ef-4ecd-f7b8-64b22d5ff5e4"
      },
      "execution_count": 16,
      "outputs": [
        {
          "output_type": "display_data",
          "data": {
            "text/plain": [
              "<Figure size 640x480 with 1 Axes>"
            ],
            "image/png": "[encoded data removed]"
          },
          "metadata": {}
        },
        {
          "output_type": "stream",
          "name": "stdout",
          "text": [
            "0.5959440604913041\n"
          ]
        }
      ]
    },
    {
      "cell_type": "code",
      "source": [
        "from sklearn.linear_model import Lasso\n",
        "lasso = Lasso()\n",
        "params = {'alpha':[0.0001,0.001,0.01,0.1,1,10,50,100]}\n",
        "lasso = GridSearchCV(lasso, params, scoring='neg_mean_squared_error', cv=5)\n",
        "lasso.fit(X_train, y_train)\n",
        "lasso_pred=lasso.predict(X_test)\n",
        "sns.kdeplot(y_test-lasso_pred)\n",
        "plt.show()\n",
        "\n",
        "\n",
        "\n",
        "\n",
        "from sklearn.metrics import r2_score\n",
        "score = r2_score(y_test, lasso_pred)\n",
        "print(score)"
      ],
      "metadata": {
        "colab": {
          "base_uri": "https://localhost:8080/",
          "height": 447
        },
        "id": "TnH_1KAnJMN-",
        "outputId": "5cde93e5-454e-4f29-e6af-4a6734185f54"
      },
      "execution_count": 18,
      "outputs": [
        {
          "output_type": "display_data",
          "data": {
            "text/plain": [
              "<Figure size 640x480 with 1 Axes>"
            ],
            "image/png": "[encoded data removed]"
          },
          "metadata": {}
        },
        {
          "output_type": "stream",
          "name": "stdout",
          "text": [
            "0.5963975777208825\n"
          ]
        }
      ]
    },
    {
      "cell_type": "code",
      "source": [],
      "metadata": {
        "id": "hq8L3tgwJT2U"
      },
      "execution_count": 18,
      "outputs": []
    },
    {
      "cell_type": "code",
      "source": [],
      "metadata": {
        "id": "witiM_mdJm1x"
      },
      "execution_count": 18,
      "outputs": []
    },
    {
      "cell_type": "code",
      "source": [],
      "metadata": {
        "id": "lbve9QBuJn5C"
      },
      "execution_count": null,
      "outputs": []
    }
  ]
}